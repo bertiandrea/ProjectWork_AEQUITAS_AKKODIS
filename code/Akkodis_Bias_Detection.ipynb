{
  "cells": [
    {
      "cell_type": "code",
      "execution_count": null,
      "metadata": {},
      "outputs": [],
      "source": [
        "!python -m pip install --upgrade pip\n",
        "%pip install pandas matplotlib seaborn scikit-learn openpyxl"
      ]
    },
    {
      "cell_type": "code",
      "execution_count": 1,
      "metadata": {
        "id": "lWKzogw1F3pY"
      },
      "outputs": [],
      "source": [
        "import pandas as pd\n",
        "import matplotlib.pyplot as plt\n",
        "import seaborn as sns\n",
        "import numpy as np\n",
        "from collections import Counter\n",
        "from sklearn.preprocessing import LabelEncoder\n",
        "from scipy.stats import chi2_contingency, fisher_exact"
      ]
    },
    {
      "cell_type": "markdown",
      "metadata": {},
      "source": [
        "## Intro"
      ]
    },
    {
      "cell_type": "code",
      "execution_count": null,
      "metadata": {
        "id": "LTrcUsCPYqs7"
      },
      "outputs": [],
      "source": [
        "PATH = 'C:/Users/aberti/Desktop/ProjectWork_AEQUITAS_AKKODIS/data/'\n",
        "df = (\n",
        "    pd.read_excel(PATH + 'Dataset_2.0_Akkodis.xlsx')\n",
        "      .rename(columns=lambda c: c.lstrip().title())\n",
        ")\n",
        "df.head()"
      ]
    },
    {
      "cell_type": "markdown",
      "metadata": {},
      "source": [
        "## Cleaning"
      ]
    },
    {
      "cell_type": "code",
      "execution_count": null,
      "metadata": {
        "colab": {
          "base_uri": "https://localhost:8080/"
        },
        "id": "oJ1qc22RgMrp",
        "outputId": "64b97e2f-b628-4e29-e925-877f816755de"
      },
      "outputs": [],
      "source": [
        "df = df.drop_duplicates(subset='Id', keep='last')\n",
        "df.head()"
      ]
    },
    {
      "cell_type": "code",
      "execution_count": null,
      "metadata": {
        "colab": {
          "base_uri": "https://localhost:8080/"
        },
        "id": "x_B_dIvvuWAi",
        "outputId": "d8c37041-371e-4cc7-fd58-29d41092d950"
      },
      "outputs": [],
      "source": [
        "columns_to_drop = ['Id', 'Last Role', 'Year Of Insertion',\n",
        "                   'Assumption Headquarters', 'Linked_Search__Key',\n",
        "                   'Akkodis Headquarters']\n",
        "THRESHOLD = 0.4\n",
        "\n",
        "for col in df.columns:\n",
        "  null_count = df[col].isna().sum() / df.shape[0]\n",
        "  if null_count > THRESHOLD:\n",
        "    columns_to_drop.append(col)\n",
        "    print(f'DROPPED <Column: {col}> NULL count: {null_count*100:.2f}%')\n",
        "  else:\n",
        "    print(f'<Column: {col}> NULL count: {null_count*100:.2f}%')\n",
        "  \n",
        "df = df.drop(columns=columns_to_drop)\n",
        "df.head()"
      ]
    },
    {
      "cell_type": "code",
      "execution_count": null,
      "metadata": {},
      "outputs": [],
      "source": [
        "print(f'Columns that contain NaN values:\\n {df.columns[df.isnull().any()].tolist()}')\n",
        "\n",
        "for col in df.columns[df.isnull().any()].tolist():\n",
        "  print(f'{col} values: {df[col].unique()} \\n') # Analyze each NaN containing feature first to determine the default fill value"
      ]
    },
    {
      "cell_type": "code",
      "execution_count": null,
      "metadata": {
        "id": "NGnfBqhkoHVP"
      },
      "outputs": [],
      "source": [
        "fill_default = {\n",
        "    'Residence': 'Not Specified',\n",
        "    'Study Area': 'Not Specified',\n",
        "    'Event_Type__Val': 'Not Specified',\n",
        "}\n",
        "df = df.fillna(fill_default)"
      ]
    },
    {
      "cell_type": "code",
      "execution_count": null,
      "metadata": {},
      "outputs": [],
      "source": [
        "print(f'The remaining columns are:\\n {df.columns}')\n",
        "df.head()"
      ]
    },
    {
      "cell_type": "markdown",
      "metadata": {
        "id": "u0_a14GrB_nV"
      },
      "source": [
        "## Feature Mapping "
      ]
    },
    {
      "cell_type": "markdown",
      "metadata": {
        "id": "wli2j3wbxqxp"
      },
      "source": [
        "###  **Candidate State**"
      ]
    },
    {
      "cell_type": "code",
      "execution_count": null,
      "metadata": {
        "colab": {
          "base_uri": "https://localhost:8080/",
          "height": 606
        },
        "id": "9xfk0qtGGY7O",
        "outputId": "fcece95e-ece7-40d6-8c68-ed2402aec2df"
      },
      "outputs": [],
      "source": [
        "lookup = 'Candidate State'\n",
        "distrib = Counter(df[lookup])\n",
        "distrib_df = pd.DataFrame(distrib.items(), columns=[lookup, 'Count'])\n",
        "distrib_df = distrib_df.sort_values(by='Count', ascending=False)\n",
        "distrib_df.head(20).plot(x=lookup, y='Count', kind='bar', legend=False)\n",
        "plt.title(lookup)\n",
        "plt.xticks(rotation=45)"
      ]
    },
    {
      "cell_type": "markdown",
      "metadata": {
        "id": "aPq3bknA2luF"
      },
      "source": [
        "### **Age Range**"
      ]
    },
    {
      "cell_type": "code",
      "execution_count": null,
      "metadata": {},
      "outputs": [],
      "source": [
        "lookup = 'Age Range'\n",
        "custom_order = ['< 20 years', '20 - 25 years', '26 - 30 years', '31 - 35 years', '36 - 40 years', '40 - 45 years', '> 45 years']\n",
        "df[lookup] = pd.Categorical(df[lookup], categories=custom_order, ordered=True).sort_values()\n",
        "\n",
        "distrib = Counter(df[lookup])\n",
        "distrib_df = pd.DataFrame(distrib.items(), columns=[lookup, 'Count'])\n",
        "distrib_df.head(20).plot(x=lookup, y='Count', kind='bar', legend=False)\n",
        "plt.title(lookup)\n",
        "plt.xticks(rotation=45)"
      ]
    },
    {
      "cell_type": "markdown",
      "metadata": {
        "id": "uS7In0uK2yea"
      },
      "source": [
        "### **Residence**"
      ]
    },
    {
      "cell_type": "code",
      "execution_count": null,
      "metadata": {},
      "outputs": [],
      "source": [
        "print(df['Residence'].unique())"
      ]
    },
    {
      "cell_type": "code",
      "execution_count": null,
      "metadata": {},
      "outputs": [],
      "source": [
        "drop_keywords = [\n",
        "    'ETHIOPIA',\n",
        "    'SOUTH AFRICAN REPUBLIC',\n",
        "    'USSR',\n",
        "    'YUGOSLAVIA'\n",
        "]\n",
        "\n",
        "for kw in drop_keywords:\n",
        "  mask = df['Residence'].str.contains(kw, na=False)\n",
        "  df.loc[mask, 'Residence'] = f\"{kw} » (STATE) ~ (FOREIGN)\"\n",
        "  print(f\"Formatted '{kw}' as '{kw} » (STATE) ~ (FOREIGN)'\")"
      ]
    },
    {
      "cell_type": "code",
      "execution_count": null,
      "metadata": {
        "id": "yH3_q6N04Cty"
      },
      "outputs": [],
      "source": [
        "residence_list = df['Residence'].unique()\n",
        "state_list = [s for s in residence_list \n",
        "              if ('(STATE)' in s) \n",
        "              or ('(COUNTRY)' in s)\n",
        "              and not ('Not Specified' in s)\n",
        "              ]\n",
        "italy_list = [s for s in residence_list \n",
        "              if not ('(STATE)' in s) \n",
        "              and not ('(COUNTRY)' in s)\n",
        "              and not ('Not Specified' in s)\n",
        "              ]\n",
        "state_list = sorted({s.split(' » ')[0] for s in state_list if ' » ' in s})\n",
        "city_list = sorted({s.split(' » ')[0] for s in italy_list if ' » ' in s})\n",
        "province_list = sorted({s.split(' » ')[1].split(' ~ ')[0] for s in italy_list if ' » ' in s and ' ~ ' in s})\n",
        "region_list = sorted({s.split(' ~ ')[-1] for s in italy_list if ' ~ ' in s})\n",
        "\n",
        "print(f\"List of residence italian citys of the candidates in the dataset:\\n {city_list}\")\n",
        "print(f\"List of residence italian provinces of the candidates in the dataset:\\n {province_list}\")\n",
        "print(f\"List of residence italian regions of the candidates in the dataset:\\n {region_list}\")\n",
        "print(f\"List of residence states of the candidates in the dataset:\\n {state_list}\")\n",
        "\n",
        "def map_residence_city(value):\n",
        "    for city in city_list:\n",
        "        if city in value:\n",
        "            return city\n",
        "    return 'Not Specified'\n",
        "\n",
        "def map_residence_province(value):\n",
        "    for prov in province_list:\n",
        "        if prov in value:\n",
        "            return prov\n",
        "    return 'Not Specified'\n",
        "\n",
        "def map_residence_region(value):\n",
        "    for region in region_list:\n",
        "        if region in value:\n",
        "            return region\n",
        "    return 'Not Specified'\n",
        "\n",
        "def map_residence_state(value):\n",
        "    for state in state_list:\n",
        "        if state in value:\n",
        "            return state\n",
        "    return 'ITALY'\n",
        "\n",
        "# Applicazione sulle colonne\n",
        "df['Residence City']     = df['Residence'].apply(map_residence_city)\n",
        "df['Residence Province'] = df['Residence'].apply(map_residence_province)\n",
        "df['Residence Region']   = df['Residence'].apply(map_residence_region)\n",
        "df['Residence State']    = df['Residence'].apply(map_residence_state)\n",
        "df.head()\n"
      ]
    },
    {
      "cell_type": "code",
      "execution_count": null,
      "metadata": {},
      "outputs": [],
      "source": [
        "european_countries = [\n",
        "    'ALBANIA', 'AUSTRIA', 'BELARUS', 'BELGIUM', 'BULGARIA', 'CROATIA', 'CZECH REPUBLIC',\n",
        "    'FRANCE', 'GERMANY', 'GREAT BRITAIN-NORTHERN IRELAND', 'GREECE', 'ITALY', 'LATVIA',\n",
        "    'LITHUANIA', 'LUXEMBOURG', 'MALTA', 'MOLDOVA', 'MONACO', 'MONTENEGRO', 'NETHERLANDS',\n",
        "    'NORWAY', 'POLAND', 'PORTUGAL', 'ROMANIA', 'RUSSIA', 'SAN MARINO', 'SERBIA', 'SLOVAKIA',\n",
        "    'SLOVENIA', 'SPAIN', 'SWEDEN', 'SWITZERLAND', 'UKRAINE'\n",
        "]\n",
        "df['European Residence'] = df['Residence State'].apply(lambda x: 'Yes' if x in european_countries else 'No')\n",
        "df['Italian Residence'] = df['Residence State'].apply(lambda x: 'Yes' if 'ITALY' in x else 'No')\n",
        "df.head()"
      ]
    },
    {
      "cell_type": "code",
      "execution_count": null,
      "metadata": {
        "colab": {
          "base_uri": "https://localhost:8080/",
          "height": 710
        },
        "id": "kGeFWc3EKiRb",
        "outputId": "26f59564-e7c7-447e-c89a-9a017ebf7cc7"
      },
      "outputs": [],
      "source": [
        "lookup = 'Residence State'\n",
        "distrib = Counter(df[df[lookup] != 'ITALY'][lookup])\n",
        "distrib_df = pd.DataFrame(distrib.items(), columns=[lookup, 'Count'])\n",
        "distrib_df = distrib_df.sort_values(by='Count', ascending=False)\n",
        "distrib_df.head(20).plot(x=lookup, y='Count', kind='bar', legend=False)\n",
        "plt.title(lookup + ' (excluding ITALY)')"
      ]
    },
    {
      "cell_type": "code",
      "execution_count": null,
      "metadata": {
        "colab": {
          "base_uri": "https://localhost:8080/",
          "height": 593
        },
        "id": "YPgAczoFzpth",
        "outputId": "6f4bdecc-c8cf-43b8-e747-817da012e14d"
      },
      "outputs": [],
      "source": [
        "lookup = 'Residence Region'\n",
        "distrib = Counter(df[lookup])\n",
        "distrib_df = pd.DataFrame(distrib.items(), columns=[lookup, 'Count'])\n",
        "distrib_df = distrib_df.sort_values(by='Count', ascending=False)\n",
        "distrib_df.head(20).plot(x=lookup, y='Count', kind='bar', legend=False)\n",
        "plt.title(lookup)"
      ]
    },
    {
      "cell_type": "code",
      "execution_count": null,
      "metadata": {
        "colab": {
          "base_uri": "https://localhost:8080/",
          "height": 428
        },
        "id": "AfOGAOHsNgd_",
        "outputId": "83506b2a-b49f-43a3-c69d-10693631cebd"
      },
      "outputs": [],
      "source": [
        "lookup = 'European Residence'\n",
        "distrib = Counter(df[lookup])\n",
        "distrib_df = pd.DataFrame(distrib.items(), columns=[lookup, 'Count'])\n",
        "distrib_df = distrib_df.sort_values(by='Count', ascending=False)\n",
        "distrib_df.head(20).plot(x=lookup, y='Count', kind='bar', legend=False)\n",
        "plt.title(lookup)\n",
        "plt.xticks(rotation=45)\n",
        "\n",
        "lookup = 'Italian Residence'\n",
        "distrib = Counter(df[lookup])\n",
        "distrib_df = pd.DataFrame(distrib.items(), columns=[lookup, 'Count'])\n",
        "distrib_df = distrib_df.sort_values(by='Count', ascending=False)\n",
        "distrib_df.head(20).plot(x=lookup, y='Count', kind='bar', legend=False)\n",
        "plt.title(lookup)\n",
        "plt.xticks(rotation=45)"
      ]
    },
    {
      "cell_type": "code",
      "execution_count": null,
      "metadata": {
        "id": "IKSfDKP__vBE"
      },
      "outputs": [],
      "source": [
        "df = df.drop(columns=['Residence'])\n",
        "df.head()"
      ]
    },
    {
      "cell_type": "markdown",
      "metadata": {
        "id": "VcFXvk4t_-la"
      },
      "source": [
        "### **Sex**"
      ]
    },
    {
      "cell_type": "code",
      "execution_count": null,
      "metadata": {
        "colab": {
          "base_uri": "https://localhost:8080/",
          "height": 510
        },
        "id": "Y9WPOcQUONIq",
        "outputId": "4afdd722-6e79-4987-e494-3f71de4f0847"
      },
      "outputs": [],
      "source": [
        "lookup = 'Sex'\n",
        "distrib = Counter(df[lookup])\n",
        "distrib_df = pd.DataFrame(distrib.items(), columns=[lookup, 'Count'])\n",
        "distrib_df = distrib_df.sort_values(by='Count', ascending=False)\n",
        "distrib_df.head(20).plot(x=lookup, y='Count', kind='bar', legend=False)\n",
        "plt.title(lookup)\n",
        "plt.xticks(rotation=45)"
      ]
    },
    {
      "cell_type": "markdown",
      "metadata": {
        "id": "mf8TDLBfDwar"
      },
      "source": [
        "### **Study Area**"
      ]
    },
    {
      "cell_type": "code",
      "execution_count": null,
      "metadata": {},
      "outputs": [],
      "source": [
        "lookup = 'Study Area'\n",
        "distrib = Counter(df[lookup])\n",
        "distrib_df = pd.DataFrame(distrib.items(), columns=[lookup, 'Count'])\n",
        "distrib_df = distrib_df.sort_values(by='Count', ascending=False)\n",
        "distrib_df.head(20).plot(x=lookup, y='Count', kind='bar', legend=False)\n",
        "plt.title(lookup)"
      ]
    },
    {
      "cell_type": "markdown",
      "metadata": {
        "id": "2K7UDFgGE6rM"
      },
      "source": [
        "### **Study Title**"
      ]
    },
    {
      "cell_type": "code",
      "execution_count": null,
      "metadata": {
        "colab": {
          "base_uri": "https://localhost:8080/",
          "height": 631
        },
        "id": "apgnlRUKPabF",
        "outputId": "2fa692d0-70f0-4813-e9ae-98d6c114745f"
      },
      "outputs": [],
      "source": [
        "lookup = 'Study Title'\n",
        "distrib = Counter(df[lookup])\n",
        "distrib_df = pd.DataFrame(distrib.items(), columns=[lookup, 'Count'])\n",
        "distrib_df = distrib_df.sort_values(by='Count', ascending=False)\n",
        "distrib_df.head(20).plot(x=lookup, y='Count', kind='bar', legend=False)\n",
        "plt.title(lookup)\n",
        "plt.xticks(rotation=45)"
      ]
    },
    {
      "cell_type": "markdown",
      "metadata": {
        "id": "Tl2Rs0FcFB-B"
      },
      "source": [
        "### **Years Experience**"
      ]
    },
    {
      "cell_type": "code",
      "execution_count": null,
      "metadata": {
        "colab": {
          "base_uri": "https://localhost:8080/",
          "height": 517
        },
        "id": "1cfcTIjKPt37",
        "outputId": "7ddf6e29-29e2-4a8e-836c-77f77fb78f80"
      },
      "outputs": [],
      "source": [
        "lookup = 'Years Experience'\n",
        "custom_order = ['[0]', '[0-1]', '[1-3]', '[3-5]', '[5-7]', '[7-10]', '[+10]']\n",
        "df[lookup] = pd.Categorical(df[lookup], categories=custom_order, ordered=True).sort_values()\n",
        "\n",
        "distrib = Counter(df[lookup])\n",
        "distrib_df = pd.DataFrame(distrib.items(), columns=[lookup, 'Count'])\n",
        "distrib_df.head(20).plot(x=lookup, y='Count', kind='bar', legend=False)\n",
        "plt.title(lookup)\n",
        "plt.xticks(rotation=45)"
      ]
    },
    {
      "cell_type": "markdown",
      "metadata": {
        "id": "XgPVA6hVFQ8q"
      },
      "source": [
        "### **Event_type__val**"
      ]
    },
    {
      "cell_type": "code",
      "execution_count": null,
      "metadata": {
        "colab": {
          "base_uri": "https://localhost:8080/",
          "height": 625
        },
        "id": "m1C0aIPUQuCR",
        "outputId": "823cea26-ee2d-49cb-a311-1c30bfd8027c"
      },
      "outputs": [],
      "source": [
        "lookup = 'Event_Type__Val'\n",
        "distrib = Counter(df[lookup])\n",
        "distrib_df = pd.DataFrame(distrib.items(), columns=[lookup, 'Count'])\n",
        "distrib_df = distrib_df.sort_values(by='Count', ascending=False)\n",
        "distrib_df.head(20).plot(x=lookup, y='Count', kind='bar', legend=False)\n",
        "plt.title(lookup)"
      ]
    },
    {
      "cell_type": "markdown",
      "metadata": {
        "id": "WW6xr2cmT1JI"
      },
      "source": [
        "## Data Visualization"
      ]
    },
    {
      "cell_type": "markdown",
      "metadata": {},
      "source": [
        "### **Sex and Candidate State**"
      ]
    },
    {
      "cell_type": "code",
      "execution_count": null,
      "metadata": {
        "colab": {
          "base_uri": "https://localhost:8080/",
          "height": 394
        },
        "id": "hHgMTZ1HTJTI",
        "outputId": "325b56ce-8a0e-4ce9-9cec-8e2c126d3db6"
      },
      "outputs": [],
      "source": [
        "pivot = df.pivot_table(index='Sex', columns='Candidate State', aggfunc='size', fill_value=0)\n",
        "pivot.plot(kind='bar', figsize=(10, 6))\n",
        "plt.title('Candidate State by Sex')\n",
        "plt.xticks(rotation=45)\n",
        "plt.legend(title='Candidate State', loc='upper left')\n",
        "\n",
        "pivot = df.pivot_table(index='Sex', columns='Candidate State', aggfunc='size', fill_value=0)\n",
        "pivot_percentage = pivot.div(pivot.sum(axis=1), axis=0)\n",
        "pivot_percentage.plot(kind='bar', stacked=True, figsize=(10, 6))\n",
        "plt.title('Candidate State by Sex (Normalized)')\n",
        "plt.xticks(rotation=45)\n",
        "plt.legend(title='Candidate State', loc='upper left')"
      ]
    },
    {
      "cell_type": "markdown",
      "metadata": {
        "id": "4D1VbTkEWLcM"
      },
      "source": [
        "### **Age Range and Candidate State**"
      ]
    },
    {
      "cell_type": "code",
      "execution_count": null,
      "metadata": {
        "colab": {
          "base_uri": "https://localhost:8080/",
          "height": 749
        },
        "id": "cbMXp1fHVQoq",
        "outputId": "2df82696-db2f-418b-aea2-248cb4f82e3b"
      },
      "outputs": [],
      "source": [
        "sns.histplot(\n",
        "    data= df,\n",
        "    x='Age Range',\n",
        "    hue='Candidate State',\n",
        "    multiple='stack',\n",
        "    palette='Set3',\n",
        "    legend=True\n",
        ")\n",
        "plt.title(\"Distribution of Age Ranges by Candidate State\")\n",
        "plt.xticks(rotation=45)"
      ]
    },
    {
      "cell_type": "code",
      "execution_count": null,
      "metadata": {},
      "outputs": [],
      "source": [
        "sns.boxplot(\n",
        "    data=df,\n",
        "    x='Candidate State',\n",
        "    y=df['Age Range'].map(lambda x: int(x.split('-')[0]) if '-' in x else (19 if '<' in x else 46)),\n",
        "    palette='Set3',\n",
        "    hue='Candidate State',\n",
        "    legend=True\n",
        ")\n",
        "plt.title(\"Candidate State by Age Range (Numerical Approximation)\", fontsize=14)\n",
        "plt.xticks(rotation=45)\n"
      ]
    },
    {
      "cell_type": "markdown",
      "metadata": {
        "id": "oVlOicrU8Wi5"
      },
      "source": [
        "### **Age Range Correlation**"
      ]
    },
    {
      "cell_type": "code",
      "execution_count": null,
      "metadata": {
        "colab": {
          "base_uri": "https://localhost:8080/",
          "height": 583
        },
        "id": "UOX2wvvX-WS9",
        "outputId": "eddcbc7d-edfd-4454-e5f1-842779966d7c"
      },
      "outputs": [],
      "source": [
        "df_encoded = df.copy()\n",
        "\n",
        "custom_order = ['< 20 years', '20 - 25 years', '26 - 30 years', '31 - 35 years', '36 - 40 years', '40 - 45 years', '> 45 years']\n",
        "\n",
        "df_encoded['Age Range'] = pd.Categorical(\n",
        "    df_encoded['Age Range'],\n",
        "    categories=custom_order,\n",
        "    ordered=True\n",
        ").codes + 1\n",
        "\n",
        "cat_cols = df_encoded.columns.drop('Age Range')\n",
        "\n",
        "enc = LabelEncoder()\n",
        "for col in df_encoded.columns.drop('Age Range'):\n",
        "    if col != 'Age Range':\n",
        "        df_encoded[col] = enc.fit_transform(df_encoded[col])\n",
        "\n",
        "correlation_matrix = df_encoded.corr()\n",
        "\n",
        "sns.heatmap(correlation_matrix, annot=True, fmt=\".1f\")\n",
        "plt.title('Correlation Matrix')"
      ]
    },
    {
      "cell_type": "markdown",
      "metadata": {},
      "source": [
        "## Chi-squared Tests"
      ]
    },
    {
      "cell_type": "markdown",
      "metadata": {},
      "source": [
        "### Candidate State"
      ]
    },
    {
      "cell_type": "code",
      "execution_count": null,
      "metadata": {},
      "outputs": [],
      "source": [
        "df['Hired_Flag'] = df['Candidate State'] == 'Hired'\n",
        "\n",
        "# Tabelle di contingenza\n",
        "contingency_sex    = pd.crosstab(df['Sex'], df['Hired_Flag'])\n",
        "contingency_age    = pd.crosstab(df['Age Range'], df['Hired_Flag'])\n",
        "contingency_region = pd.crosstab(df['Residence Region'], df['Hired_Flag'])\n",
        "\n",
        "# Chi-squared tests\n",
        "tables = {\n",
        "    'Sex': contingency_sex,\n",
        "    'Age Range': contingency_age,\n",
        "    'Residence Region': contingency_region\n",
        "}\n",
        "for var, table in tables.items():\n",
        "    chi2, p, dof, expected = chi2_contingency(table, correction=False)\n",
        "    test_name = 'Chi-squared'\n",
        "    \n",
        "    # se 2×2 e attese <5 → Fisher’s exact\n",
        "    if table.shape == (2,2) and (expected < 5).any():\n",
        "        _, p = fisher_exact(table)\n",
        "        test_name = \"Fisher's exact\"\n",
        "    \n",
        "    n = table.values.sum()\n",
        "    k = min(table.shape)\n",
        "    cramer_v = np.sqrt(chi2 / (n * (k-1)))\n",
        "    \n",
        "    # Stampa a video\n",
        "    print(f\"--- {var} ---\")\n",
        "    print(\"Expected frequencies:\")\n",
        "    print(pd.DataFrame(expected, index=table.index, columns=table.columns))\n",
        "    print()\n",
        "    print(f\"{test_name}: χ² = {chi2:.2f}, p = {p:.3f}, dof = {dof}, Cramér’s V = {cramer_v:.3f}\")\n",
        "    print(\"Conclusion: Significant association between two variables (Dependent)\" if p < 0.05 else \"Conclusion: No significant association between two variables (Independent)\")\n",
        "    print()\n",
        "    "
      ]
    },
    {
      "cell_type": "markdown",
      "metadata": {},
      "source": [
        "### Candidate State vs Sex"
      ]
    },
    {
      "cell_type": "code",
      "execution_count": null,
      "metadata": {},
      "outputs": [],
      "source": [
        "selection_order = [\n",
        "    'Imported', 'In selection', 'First contact',\n",
        "    'QM', 'Vivier', 'Economic proposal', 'Hired'\n",
        "]\n",
        "lookout = 'Sex'\n",
        "contingency_tables = {}\n",
        "\n",
        "for i, state in enumerate(selection_order):\n",
        "    post_states = selection_order[i+1:]\n",
        "    if post_states:\n",
        "        df_state      = df[df['Candidate State'] == state]\n",
        "        df_post_state = df[df['Candidate State'].isin(post_states)]\n",
        "        contingency_tables[state] = pd.DataFrame({\n",
        "            f'Post {state}': df_post_state.groupby(lookout, observed=True).size(), state: df_state.groupby(lookout, observed=True).size()\n",
        "        }).fillna(0).astype(int)\n",
        "\n",
        "for var, table in contingency_tables.items():\n",
        "    chi2, p, dof, expected = chi2_contingency(table, correction=False)\n",
        "    test_name = 'Chi-squared'\n",
        "    \n",
        "    # se 2×2 e attese <5 → Fisher’s exact\n",
        "    if table.shape == (2,2) and (expected < 5).any():\n",
        "        _, p = fisher_exact(table)\n",
        "        test_name = \"Fisher's exact\"\n",
        "    \n",
        "    n = table.values.sum()\n",
        "    k = min(table.shape)\n",
        "    cramer_v = np.sqrt(chi2 / (n * (k-1)))\n",
        "    \n",
        "    # Stampa a video\n",
        "    print(f\"--- {var} ---\")\n",
        "    print(f\"Contingency table (by {lookout}):\")\n",
        "    print(table)\n",
        "    print()\n",
        "    print(\"Expected frequencies:\")\n",
        "    print(pd.DataFrame(expected, index=table.index, columns=table.columns))\n",
        "    print()\n",
        "    print(f\"{test_name}: χ² = {chi2:.2f}, p = {p:.3f}, dof = {dof}, Cramér’s V = {cramer_v:.3f}\")\n",
        "    print(\"Conclusion: Significant association between two variables (Dependent)\" if p < 0.05 else \"Conclusion: No significant association between two variables (Independent)\")\n",
        "    print()"
      ]
    },
    {
      "cell_type": "markdown",
      "metadata": {},
      "source": [
        "### Candidate State vs Age Range"
      ]
    },
    {
      "cell_type": "code",
      "execution_count": null,
      "metadata": {},
      "outputs": [],
      "source": [
        "selection_order = [\n",
        "    'Imported', 'In selection', 'First contact',\n",
        "    'QM', 'Vivier', 'Economic proposal', 'Hired'\n",
        "]\n",
        "lookout = 'Age Range'\n",
        "contingency_tables = {}\n",
        "\n",
        "for i, state in enumerate(selection_order):\n",
        "    post_states = selection_order[i+1:]\n",
        "    if post_states:\n",
        "        df_state      = df[df['Candidate State'] == state]\n",
        "        df_post_state = df[df['Candidate State'].isin(post_states)]\n",
        "        contingency_tables[state] = pd.DataFrame({\n",
        "            f'Post {state}': df_post_state.groupby(lookout, observed=True).size(), state: df_state.groupby(lookout, observed=True).size()\n",
        "        }).fillna(0).astype(int)\n",
        "\n",
        "for var, table in contingency_tables.items():\n",
        "    chi2, p, dof, expected = chi2_contingency(table, correction=False)\n",
        "    test_name = 'Chi-squared'\n",
        "    \n",
        "    # se 2×2 e attese <5 → Fisher’s exact\n",
        "    if table.shape == (2,2) and (expected < 5).any():\n",
        "        _, p = fisher_exact(table)\n",
        "        test_name = \"Fisher's exact\"\n",
        "    \n",
        "    n = table.values.sum()\n",
        "    k = min(table.shape)\n",
        "    cramer_v = np.sqrt(chi2 / (n * (k-1)))\n",
        "    \n",
        "    # Stampa a video\n",
        "    print(f\"--- {var} ---\")\n",
        "    print(f\"Contingency table (by {lookout}):\")\n",
        "    print(table)\n",
        "    print()\n",
        "    print(\"Expected frequencies:\")\n",
        "    print(pd.DataFrame(expected, index=table.index, columns=table.columns))\n",
        "    print()\n",
        "    print(f\"{test_name}: χ² = {chi2:.2f}, p = {p:.3f}, dof = {dof}, Cramér’s V = {cramer_v:.3f}\")\n",
        "    print(\"Conclusion: Significant association between two variables (Dependent)\" if p < 0.05 else \"Conclusion: No significant association between two variables (Independent)\")\n",
        "    print()"
      ]
    },
    {
      "cell_type": "markdown",
      "metadata": {},
      "source": [
        "### Candidate State vs Residence Region"
      ]
    },
    {
      "cell_type": "code",
      "execution_count": null,
      "metadata": {},
      "outputs": [],
      "source": [
        "selection_order = [\n",
        "    'Imported', 'In selection', 'First contact',\n",
        "    'QM', 'Vivier', 'Economic proposal', 'Hired'\n",
        "]\n",
        "lookout = 'Residence Region'\n",
        "contingency_tables = {}\n",
        "\n",
        "for i, state in enumerate(selection_order):\n",
        "    post_states = selection_order[i+1:]\n",
        "    if post_states:\n",
        "        df_state      = df[(df['Candidate State'] == state) & (df[lookout] != 'Not Specified')] # Excluding Not Specified\n",
        "        df_post_state = df[(df['Candidate State'].isin(post_states)) & (df[lookout] != 'Not Specified')] # Excluding Not Specified\n",
        "        contingency_tables[state] = pd.DataFrame({\n",
        "            f'Post {state}': df_post_state.groupby(lookout, observed=True).size(), state: df_state.groupby(lookout, observed=True).size()\n",
        "        }).fillna(0).astype(int)\n",
        "\n",
        "for var, table in contingency_tables.items():\n",
        "    chi2, p, dof, expected = chi2_contingency(table, correction=False)\n",
        "    test_name = 'Chi-squared'\n",
        "    \n",
        "    # se 2×2 e attese <5 → Fisher’s exact\n",
        "    if table.shape == (2,2) and (expected < 5).any():\n",
        "        _, p = fisher_exact(table)\n",
        "        test_name = \"Fisher's exact\"\n",
        "    \n",
        "    n = table.values.sum()\n",
        "    k = min(table.shape)\n",
        "    cramer_v = np.sqrt(chi2 / (n * (k-1)))\n",
        "    \n",
        "    # Stampa a video\n",
        "    print(f\"--- {var} ---\")\n",
        "    print(f\"Contingency table (by {lookout}):\")\n",
        "    print(table)\n",
        "    print()\n",
        "    print(\"Expected frequencies:\")\n",
        "    print(pd.DataFrame(expected, index=table.index, columns=table.columns))\n",
        "    print()\n",
        "    print(f\"{test_name}: χ² = {chi2:.2f}, p = {p:.3f}, dof = {dof}, Cramér’s V = {cramer_v:.3f}\")\n",
        "    print(\"Conclusion: Significant association between two variables (Dependent)\" if p < 0.05 else \"Conclusion: No significant association between two variables (Independent)\")\n",
        "    print()"
      ]
    }
  ],
  "metadata": {
    "colab": {
      "provenance": []
    },
    "kernelspec": {
      "display_name": ".venv",
      "language": "python",
      "name": "python3"
    },
    "language_info": {
      "codemirror_mode": {
        "name": "ipython",
        "version": 3
      },
      "file_extension": ".py",
      "mimetype": "text/x-python",
      "name": "python",
      "nbconvert_exporter": "python",
      "pygments_lexer": "ipython3",
      "version": "3.8.10"
    }
  },
  "nbformat": 4,
  "nbformat_minor": 0
}
