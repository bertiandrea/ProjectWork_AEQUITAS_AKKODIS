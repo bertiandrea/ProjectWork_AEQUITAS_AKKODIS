{
  "cells": [
    {
      "cell_type": "code",
      "execution_count": null,
      "metadata": {},
      "outputs": [],
      "source": [
        "%pip install pandas\n",
        "%pip install matplotlib\n",
        "%pip install seaborn\n",
        "%pip install scikit-learn\n",
        "%pip install openpyxl"
      ]
    },
    {
      "cell_type": "code",
      "execution_count": null,
      "metadata": {
        "id": "lWKzogw1F3pY"
      },
      "outputs": [],
      "source": [
        "import pandas as pd\n",
        "from collections import Counter\n",
        "import matplotlib.pyplot as plt\n",
        "import seaborn as sns\n",
        "from sklearn.preprocessing import LabelEncoder"
      ]
    },
    {
      "cell_type": "code",
      "execution_count": null,
      "metadata": {
        "id": "LTrcUsCPYqs7"
      },
      "outputs": [],
      "source": [
        "PATH = 'C:/Users/aberti/Desktop/ProjectWork_AEQUITAS_AKKODIS/data/'\n",
        "df = (\n",
        "    pd.read_excel(PATH + 'Dataset_2.0_Akkodis.xlsx')\n",
        "      .rename(columns=lambda c: c.lstrip().title())\n",
        ")\n",
        "df.head()"
      ]
    },
    {
      "cell_type": "markdown",
      "metadata": {},
      "source": [
        "## Cleaning"
      ]
    },
    {
      "cell_type": "code",
      "execution_count": null,
      "metadata": {
        "colab": {
          "base_uri": "https://localhost:8080/"
        },
        "id": "oJ1qc22RgMrp",
        "outputId": "64b97e2f-b628-4e29-e925-877f816755de"
      },
      "outputs": [],
      "source": [
        "df = df.drop_duplicates(subset='Id', keep='last')"
      ]
    },
    {
      "cell_type": "code",
      "execution_count": null,
      "metadata": {
        "colab": {
          "base_uri": "https://localhost:8080/"
        },
        "id": "x_B_dIvvuWAi",
        "outputId": "d8c37041-371e-4cc7-fd58-29d41092d950"
      },
      "outputs": [],
      "source": [
        "columns_to_drop = ['Id', 'Last Role', 'Year Of Insertion',\n",
        "                   'Assumption Headquarters', 'Linked_Search__Key',\n",
        "                   'Akkodis Headquarters']\n",
        "THRESHOLD = 0.6\n",
        "\n",
        "for col in df.columns:\n",
        "  null_count = df[col].isna().sum() / df.shape[0]\n",
        "  if null_count > THRESHOLD:\n",
        "    columns_to_drop.append(col)\n",
        "  print(f'<Column: {col}> NULL count: {null_count*100:.2f}%')\n",
        "  \n",
        "df = df.drop(columns=columns_to_drop)"
      ]
    },
    {
      "cell_type": "code",
      "execution_count": null,
      "metadata": {
        "id": "NGnfBqhkoHVP"
      },
      "outputs": [],
      "source": [
        "for col in df.columns[df.isnull().any()].tolist():\n",
        "  print(f'{col} values: {df[col].unique()} \\n') # Analyze each NaN containing feature first to determine the default fill value\n",
        "\n",
        "fill_default = {\n",
        "    'Residence': 'Not Specified',\n",
        "    'Protected Category': 'No',\n",
        "    'Tag': 'Not Specified',\n",
        "    'Study Area': 'Not Specified',\n",
        "    'Sector': 'Not Specified',\n",
        "    'Event_Type__Val': 'Not Specified',\n",
        "    'Event_Feedback': 'Not Specified'\n",
        "}\n",
        "df = df.fillna(fill_default)"
      ]
    },
    {
      "cell_type": "code",
      "execution_count": null,
      "metadata": {},
      "outputs": [],
      "source": [
        "print(f'The remaining columns are:\\n')\n",
        "print(df.columns)\n",
        "df.head()"
      ]
    },
    {
      "cell_type": "markdown",
      "metadata": {
        "id": "u0_a14GrB_nV"
      },
      "source": [
        "## Feature Mapping "
      ]
    },
    {
      "cell_type": "markdown",
      "metadata": {
        "id": "wli2j3wbxqxp"
      },
      "source": [
        "###  **Candidate State**"
      ]
    },
    {
      "cell_type": "code",
      "execution_count": null,
      "metadata": {
        "colab": {
          "base_uri": "https://localhost:8080/",
          "height": 606
        },
        "id": "9xfk0qtGGY7O",
        "outputId": "fcece95e-ece7-40d6-8c68-ed2402aec2df"
      },
      "outputs": [],
      "source": [
        "lookup = 'Candidate State'\n",
        "distrib = Counter(df[lookup])\n",
        "distrib_df = pd.DataFrame(distrib.items(), columns=[lookup, 'Count'])\n",
        "distrib_df = distrib_df.sort_values(by='Count', ascending=False)\n",
        "distrib_df.plot(x=lookup, y='Count', kind='bar', legend=False)\n",
        "plt.title(lookup)"
      ]
    },
    {
      "cell_type": "markdown",
      "metadata": {
        "id": "aPq3bknA2luF"
      },
      "source": [
        "### **Age Range**"
      ]
    },
    {
      "cell_type": "code",
      "execution_count": null,
      "metadata": {},
      "outputs": [],
      "source": [
        "lookup = 'Age Range'\n",
        "custom_order = ['< 20 years', '20 - 25 years', '26 - 30 years',\n",
        "                '31 - 35 years', '36 - 40 years', '40 - 45 years', '> 45 years']\n",
        "df[lookup] = pd.Categorical(df[lookup], categories=custom_order, ordered=True).sort_values()\n",
        "\n",
        "distrib = Counter(df[lookup])\n",
        "distrib_df = pd.DataFrame(distrib.items(), columns=[lookup, 'Count'])\n",
        "distrib_df = distrib_df.sort_values(by='Count', ascending=False)\n",
        "distrib_df.plot(x=lookup, y='Count', kind='bar', legend=False)\n",
        "plt.title(lookup)"
      ]
    },
    {
      "cell_type": "code",
      "execution_count": null,
      "metadata": {},
      "outputs": [],
      "source": [
        "lookup = 'Age Range'\n",
        "distrib = Counter(df[lookup])\n",
        "distrib_df = pd.DataFrame(distrib.items(), columns=[lookup, 'Count'])\n",
        "distrib_df = distrib_df.sort_values(by='Count', ascending=False)\n",
        "distrib_df.plot(x=lookup, y='Count', kind='bar', legend=False)\n",
        "plt.title(lookup)"
      ]
    },
    {
      "cell_type": "markdown",
      "metadata": {
        "id": "uS7In0uK2yea"
      },
      "source": [
        "### **Residence**"
      ]
    },
    {
      "cell_type": "code",
      "execution_count": null,
      "metadata": {
        "id": "yH3_q6N04Cty"
      },
      "outputs": [],
      "source": [
        "residence_list = df['Residence'].unique()\n",
        "state_list = [\n",
        "    s for s in residence_list\n",
        "    if ('(STATE)' in s)\n",
        "    or ('SOUTH AFRICAN REPUBLIC' in s)\n",
        "    or ('USSR' in s)\n",
        "    or ('YUGOSLAVIA' in s)\n",
        "]\n",
        "state_list = sorted({s.split(' » ')[0].split(' ~ ')[0] for s in state_list})\n",
        "\n",
        "italy_list = [\n",
        "    s for s in residence_list\n",
        "    if ('(STATE)' not in s)\n",
        "    and ('USSR' not in s)\n",
        "    and ('YUGOSLAVIA' not in s)\n",
        "]\n",
        "italy_list = sorted({s.split(' ~ ')[-1] for s in italy_list})\n",
        "\n",
        "def map_residence(value):\n",
        "    for region in italy_list:\n",
        "        if region in value:\n",
        "            return region\n",
        "    for state in state_list:\n",
        "        if state in value:\n",
        "            return state\n",
        "    return 'Not Specified'\n",
        "\n",
        "df['Residence'] = df['Residence'].apply(map_residence)"
      ]
    },
    {
      "cell_type": "code",
      "execution_count": null,
      "metadata": {
        "id": "Hm_CuF4E4IDQ"
      },
      "outputs": [],
      "source": [
        "df['Residence'] = df['Residence'].replace({\n",
        "    'Türkiye': 'TURKEY',\n",
        "    'USSR': 'RUSSIAN FEDERATION'\n",
        "})"
      ]
    },
    {
      "cell_type": "code",
      "execution_count": null,
      "metadata": {
        "id": "5sgO6AkB9FBr"
      },
      "outputs": [],
      "source": [
        "df['Residence State'] = df['Residence'].apply(\n",
        "    lambda x: x if x in state_list else 'ITALY'\n",
        ")\n",
        "df['Residence Italian Region'] = df['Residence'].apply(\n",
        "    lambda x: x if x in italy_list else 'Not in ITALY'\n",
        ")\n",
        "df.loc[\n",
        "    (df['Residence State'] == 'ITALY')\n",
        "    & (df['Residence Italian Region'] == 'Not in ITALY'),\n",
        "    'Residence Italian Region'\n",
        "] = 'Not Specified'"
      ]
    },
    {
      "cell_type": "code",
      "execution_count": null,
      "metadata": {
        "colab": {
          "base_uri": "https://localhost:8080/",
          "height": 428
        },
        "id": "uRYvwLwCI4oR",
        "outputId": "5d7be225-5c25-4c72-8b6e-bedca619c1ac"
      },
      "outputs": [],
      "source": [
        "distrib_it = [len(df[df['Residence State'] == 'ITALY']),\n",
        "                df.shape[0]-len(df[df['Residence State'] == 'ITALY'])]\n",
        "labels = ['Italian Residence', 'Non-Italian Residence']\n",
        "plt.bar(labels, distrib_it)\n",
        "plt.title('Italian vs Non-Italian Residence Distribution')\n",
        "plt.xlabel('Residence Type')"
      ]
    },
    {
      "cell_type": "code",
      "execution_count": null,
      "metadata": {
        "colab": {
          "base_uri": "https://localhost:8080/",
          "height": 710
        },
        "id": "kGeFWc3EKiRb",
        "outputId": "26f59564-e7c7-447e-c89a-9a017ebf7cc7"
      },
      "outputs": [],
      "source": [
        "res_state_counts = Counter(df[df['Residence State'] != 'ITALY']['Residence State'])\n",
        "res_state_df = pd.DataFrame(res_state_counts.items(), columns=['Residence State', 'Count'])\n",
        "res_state_df = res_state_df.sort_values(by='Count', ascending=False)\n",
        "res_state_df.head(20).plot(x='Residence State', y='Count', kind='bar', legend=False)\n",
        "plt.title('Top 20 Residence States (other than Italy)')\n",
        "plt.ylabel('Frequency')\n",
        "plt.show()"
      ]
    },
    {
      "cell_type": "code",
      "execution_count": null,
      "metadata": {
        "id": "96uwaNFI9aiA"
      },
      "outputs": [],
      "source": [
        "df['Residence Italian Region'] = df['Residence'].apply(lambda x: x if x in italy_list else 'Not in ITALY')"
      ]
    },
    {
      "cell_type": "code",
      "execution_count": null,
      "metadata": {
        "id": "YJy8v1kk-Bh6"
      },
      "outputs": [],
      "source": [
        "df.loc[\n",
        "    (df['Residence State'] == 'ITALY') & (df['Residence Italian Region'] == 'Not in ITALY'),\n",
        "    'Residence Italian Region'\n",
        "] = 'Not Specified'"
      ]
    },
    {
      "cell_type": "code",
      "execution_count": null,
      "metadata": {
        "colab": {
          "base_uri": "https://localhost:8080/",
          "height": 593
        },
        "id": "YPgAczoFzpth",
        "outputId": "6f4bdecc-c8cf-43b8-e747-817da012e14d"
      },
      "outputs": [],
      "source": [
        "it_reg_counts = Counter(df['Residence Italian Region'])\n",
        "it_reg_df = pd.DataFrame(it_reg_counts.items(), columns=['Residence Italian Region', 'Count'])\n",
        "it_reg_df = it_reg_df.sort_values(by='Count', ascending=False)\n",
        "it_reg_df.head(20).plot(x='Residence Italian Region', y='Count', kind='bar', legend=False)\n",
        "plt.title('Top 20 Residence Italian Regions')\n",
        "plt.ylabel('Frequency')\n",
        "plt.show()"
      ]
    },
    {
      "cell_type": "code",
      "execution_count": null,
      "metadata": {
        "id": "y9v0LAIv_WMF"
      },
      "outputs": [],
      "source": [
        "european_countries = [\n",
        "    'ALBANIA', 'AUSTRIA', 'BELARUS', 'BELGIUM', 'BULGARIA', 'CROATIA', 'CZECH REPUBLIC',\n",
        "    'FRANCE', 'GERMANY', 'GREAT BRITAIN-NORTHERN IRELAND', 'GREECE', 'ITALY', 'LATVIA',\n",
        "    'LITHUANIA', 'LUXEMBOURG', 'MALTA', 'MOLDOVA', 'MONACO', 'MONTENEGRO', 'NETHERLANDS',\n",
        "    'NORWAY', 'POLAND', 'PORTUGAL', 'ROMANIA', 'RUSSIA', 'SAN MARINO', 'SERBIA', 'SLOVAKIA',\n",
        "    'SLOVENIA', 'SPAIN', 'SWEDEN', 'SWITZERLAND', 'UKRAINE'\n",
        "]\n",
        "df['European Residence'] = df['Residence State'].apply(lambda x: 'Yes' if x in european_countries else 'No')"
      ]
    },
    {
      "cell_type": "code",
      "execution_count": null,
      "metadata": {
        "colab": {
          "base_uri": "https://localhost:8080/",
          "height": 428
        },
        "id": "AfOGAOHsNgd_",
        "outputId": "83506b2a-b49f-43a3-c69d-10693631cebd"
      },
      "outputs": [],
      "source": [
        "eu_distrib = Counter(df['European Residence'])\n",
        "eu_distrib_df = pd.DataFrame(eu_distrib.items(), columns=['European Residence', 'Count'])\n",
        "\n",
        "labels = eu_distrib_df['European Residence']\n",
        "labels.replace({'Yes': 'European', 'No': 'Non-European'}, inplace=True)\n",
        "sizes = eu_distrib_df['Count']\n",
        "\n",
        "plt.pie(sizes, labels=labels, autopct='%1.1f%%', startangle=140)\n",
        "plt.title('European Residence Distribution')\n",
        "plt.show()"
      ]
    },
    {
      "cell_type": "markdown",
      "metadata": {
        "id": "J1aWSTcp_m8t"
      },
      "source": [
        "The `Residence` column could then be removed."
      ]
    },
    {
      "cell_type": "code",
      "execution_count": null,
      "metadata": {
        "id": "IKSfDKP__vBE"
      },
      "outputs": [],
      "source": [
        "df = df.drop(columns=['Residence'])"
      ]
    },
    {
      "cell_type": "markdown",
      "metadata": {
        "id": "VcFXvk4t_-la"
      },
      "source": [
        "### **Sex**"
      ]
    },
    {
      "cell_type": "code",
      "execution_count": null,
      "metadata": {
        "colab": {
          "base_uri": "https://localhost:8080/",
          "height": 510
        },
        "id": "Y9WPOcQUONIq",
        "outputId": "4afdd722-6e79-4987-e494-3f71de4f0847"
      },
      "outputs": [],
      "source": [
        "lookup = 'Sex'\n",
        "distrib = Counter(df[lookup])\n",
        "distrib_df = pd.DataFrame(distrib.items(), columns=[lookup, 'Count'])\n",
        "distrib_df = distrib_df.sort_values(by='Count', ascending=False)\n",
        "distrib_df.plot(x=lookup, y='Count', kind='bar', legend=False)\n",
        "plt.title(lookup)"
      ]
    },
    {
      "cell_type": "markdown",
      "metadata": {
        "id": "ATRWBgtqAQU3"
      },
      "source": [
        "### **Protected Category**\n"
      ]
    },
    {
      "cell_type": "code",
      "execution_count": null,
      "metadata": {
        "id": "KGIUi-Ln0_Kk"
      },
      "outputs": [],
      "source": [
        "df['Protected Category'] = df['Protected Category'].replace({\n",
        "    'Article 18': 'Yes',\n",
        "    'Article 1': 'Yes',\n",
        "    'No Article': 'No'\n",
        "})"
      ]
    },
    {
      "cell_type": "code",
      "execution_count": null,
      "metadata": {
        "colab": {
          "base_uri": "https://localhost:8080/",
          "height": 510
        },
        "id": "uQnzNxOHOr-9",
        "outputId": "e5b357fe-04d3-4313-fc44-70f746a75973"
      },
      "outputs": [],
      "source": [
        "lookup = 'Protected Category'\n",
        "distrib = Counter(df[lookup])\n",
        "distrib_df = pd.DataFrame(distrib.items(), columns=[lookup, 'Count'])\n",
        "distrib_df = distrib_df.sort_values(by='Count', ascending=False)\n",
        "distrib_df.plot(x=lookup, y='Count', kind='bar', legend=False)\n",
        "plt.title(lookup)"
      ]
    },
    {
      "cell_type": "markdown",
      "metadata": {
        "id": "t1gtk7YaAUwR"
      },
      "source": [
        "### **Tag**"
      ]
    },
    {
      "cell_type": "code",
      "execution_count": null,
      "metadata": {
        "id": "MEqEAG8jxHct"
      },
      "outputs": [],
      "source": [
        "df['Tag'] = df['Tag'].replace({\n",
        "    '-': 'Not Specified',\n",
        "    '.': 'Not Specified',\n",
        "    'X': 'Not Specified'\n",
        "})"
      ]
    },
    {
      "cell_type": "code",
      "execution_count": null,
      "metadata": {
        "colab": {
          "base_uri": "https://localhost:8080/",
          "height": 552
        },
        "id": "oS-wZxFLDJrO",
        "outputId": "3f420254-58df-4dd6-a944-9ab6b79a98c5"
      },
      "outputs": [],
      "source": [
        "lookup = 'Tag'\n",
        "distrib = Counter(df[lookup].str.split(', ').explode())\n",
        "distrib_df = pd.DataFrame(distrib.items(), columns=[lookup, 'Count'])\n",
        "distrib_df = distrib_df.sort_values(by='Count', ascending=False)\n",
        "distrib_df.plot(x=lookup, y='Count', kind='bar', legend=False)\n",
        "plt.title(lookup)"
      ]
    },
    {
      "cell_type": "markdown",
      "metadata": {
        "id": "mf8TDLBfDwar"
      },
      "source": [
        "#### **Study Area**"
      ]
    },
    {
      "cell_type": "code",
      "execution_count": null,
      "metadata": {},
      "outputs": [],
      "source": [
        "lookup = 'Study Area'\n",
        "distrib = Counter(df[lookup])\n",
        "distrib_df = pd.DataFrame(distrib.items(), columns=[lookup, 'Count'])\n",
        "distrib_df = distrib_df.sort_values(by='Count', ascending=False)\n",
        "distrib_df.plot(x=lookup, y='Count', kind='bar', legend=False)\n",
        "plt.title(lookup)"
      ]
    },
    {
      "cell_type": "markdown",
      "metadata": {
        "id": "2K7UDFgGE6rM"
      },
      "source": [
        "#### **Study Title**"
      ]
    },
    {
      "cell_type": "code",
      "execution_count": null,
      "metadata": {
        "colab": {
          "base_uri": "https://localhost:8080/",
          "height": 631
        },
        "id": "apgnlRUKPabF",
        "outputId": "2fa692d0-70f0-4813-e9ae-98d6c114745f"
      },
      "outputs": [],
      "source": [
        "lookup = 'Study Title'\n",
        "distrib = Counter(df[lookup])\n",
        "distrib_df = pd.DataFrame(distrib.items(), columns=[lookup, 'Count'])\n",
        "distrib_df = distrib_df.sort_values(by='Count', ascending=False)\n",
        "distrib_df.plot(x=lookup, y='Count', kind='bar', legend=False)\n",
        "plt.title(lookup)"
      ]
    },
    {
      "cell_type": "markdown",
      "metadata": {
        "id": "Tl2Rs0FcFB-B"
      },
      "source": [
        "#### **Years Experience**"
      ]
    },
    {
      "cell_type": "code",
      "execution_count": null,
      "metadata": {
        "colab": {
          "base_uri": "https://localhost:8080/",
          "height": 517
        },
        "id": "1cfcTIjKPt37",
        "outputId": "7ddf6e29-29e2-4a8e-836c-77f77fb78f80"
      },
      "outputs": [],
      "source": [
        "lookup = 'Years Experience'\n",
        "custom_order = ['[0]', '[0-1]', '[1-3]', '[3-5]', '[5-7]', '[7-10]', '[+10]']\n",
        "\n",
        "df[lookup] = pd.Categorical(df[lookup], categories=custom_order, ordered=True).sort_values()\n",
        "\n",
        "distrib = Counter(df[lookup])\n",
        "distrib_df = pd.DataFrame(distrib.items(), columns=[lookup, 'Count'])\n",
        "distrib_df = distrib_df.sort_values(by='Count', ascending=False)\n",
        "distrib_df.plot(x=lookup, y='Count', kind='bar', legend=False)\n",
        "plt.title(lookup)"
      ]
    },
    {
      "cell_type": "code",
      "execution_count": null,
      "metadata": {},
      "outputs": [],
      "source": [
        "lookup = 'Years Experience'\n",
        "distrib = Counter(df[lookup])\n",
        "distrib_df = pd.DataFrame(distrib.items(), columns=[lookup, 'Count'])\n",
        "distrib_df = distrib_df.sort_values(by='Count', ascending=False)\n",
        "distrib_df.plot(x=lookup, y='Count', kind='bar', legend=False)\n",
        "plt.title(lookup)"
      ]
    },
    {
      "cell_type": "markdown",
      "metadata": {
        "id": "mw9tZLnKFKPW"
      },
      "source": [
        "### **Sector**"
      ]
    },
    {
      "cell_type": "code",
      "execution_count": null,
      "metadata": {
        "colab": {
          "base_uri": "https://localhost:8080/",
          "height": 695
        },
        "id": "-OhKIKyEQTVv",
        "outputId": "8b15caa4-c25e-4486-891a-365b201f2114"
      },
      "outputs": [],
      "source": [
        "lookup = 'Sector'\n",
        "distrib = Counter(df[lookup])\n",
        "distrib_df = pd.DataFrame(distrib.items(), columns=[lookup, 'Count'])\n",
        "distrib_df = distrib_df.sort_values(by='Count', ascending=False)\n",
        "distrib_df.plot(x=lookup, y='Count', kind='bar', legend=False)\n",
        "plt.title(lookup)"
      ]
    },
    {
      "cell_type": "markdown",
      "metadata": {
        "id": "XgPVA6hVFQ8q"
      },
      "source": [
        "#### **Event_type__val**"
      ]
    },
    {
      "cell_type": "code",
      "execution_count": null,
      "metadata": {
        "colab": {
          "base_uri": "https://localhost:8080/",
          "height": 625
        },
        "id": "m1C0aIPUQuCR",
        "outputId": "823cea26-ee2d-49cb-a311-1c30bfd8027c"
      },
      "outputs": [],
      "source": [
        "lookup = 'Event_Type__Val'\n",
        "distrib = Counter(df[lookup])\n",
        "distrib_df = pd.DataFrame(distrib.items(), columns=[lookup, 'Count'])\n",
        "distrib_df = distrib_df.sort_values(by='Count', ascending=False)\n",
        "distrib_df.plot(x=lookup, y='Count', kind='bar', legend=False)\n",
        "plt.title(lookup)"
      ]
    },
    {
      "cell_type": "markdown",
      "metadata": {
        "id": "Wuejgf3ZFbrn"
      },
      "source": [
        "### **Event_feedback**"
      ]
    },
    {
      "cell_type": "code",
      "execution_count": null,
      "metadata": {
        "colab": {
          "base_uri": "https://localhost:8080/",
          "height": 428
        },
        "id": "eTi6D-yoR2Rj",
        "outputId": "d1ff2f11-1315-4615-ffb9-79222c3042f1"
      },
      "outputs": [],
      "source": [
        "lookup = 'Event_Feedback'\n",
        "distrib = Counter(df[lookup])\n",
        "distrib_df = pd.DataFrame(distrib.items(), columns=[lookup, 'Count'])\n",
        "distrib_df = distrib_df.sort_values(by='Count', ascending=False)\n",
        "distrib_df.plot(x=lookup, y='Count', kind='bar', legend=False)\n",
        "plt.title(lookup)"
      ]
    },
    {
      "cell_type": "markdown",
      "metadata": {
        "id": "WW6xr2cmT1JI"
      },
      "source": [
        "## Data Visualization\n",
        "### **Sex and Candidate State**"
      ]
    },
    {
      "cell_type": "code",
      "execution_count": null,
      "metadata": {
        "colab": {
          "base_uri": "https://localhost:8080/",
          "height": 394
        },
        "id": "hHgMTZ1HTJTI",
        "outputId": "325b56ce-8a0e-4ce9-9cec-8e2c126d3db6"
      },
      "outputs": [],
      "source": [
        "pivot = df.pivot_table(index='Sex', columns='Candidate State', aggfunc='size', fill_value=0)\n",
        "\n",
        "pivot.plot(kind='bar', figsize=(10, 6))\n",
        "plt.title('Candidate State by Sex')\n",
        "plt.ylabel('Count')\n",
        "plt.xlabel('Sex')\n",
        "plt.legend(title='Candidate State', bbox_to_anchor=(1.05, 1), loc='upper left')\n",
        "plt.tight_layout()\n",
        "plt.show()"
      ]
    },
    {
      "cell_type": "code",
      "execution_count": null,
      "metadata": {
        "colab": {
          "base_uri": "https://localhost:8080/",
          "height": 394
        },
        "id": "eAuRRe-rTVxP",
        "outputId": "166dd956-8c22-4ea5-ca82-947d8170a13b"
      },
      "outputs": [],
      "source": [
        "pivot_percentage = pivot.div(pivot.sum(axis=1), axis=0)\n",
        "\n",
        "pivot_percentage.plot(kind='bar', stacked=True, figsize=(10, 6))\n",
        "plt.title('Candidate State by Sex (Normalized)')\n",
        "plt.ylabel('Proportion')\n",
        "plt.xlabel('Sex')\n",
        "plt.legend(title='Candidate State', bbox_to_anchor=(1.05, 1), loc='upper left')\n",
        "plt.tight_layout()\n",
        "plt.show()"
      ]
    },
    {
      "cell_type": "markdown",
      "metadata": {
        "id": "ZNCTmGoHUgqP"
      },
      "source": [
        "### **Protected Category and Candidate State**"
      ]
    },
    {
      "cell_type": "code",
      "execution_count": null,
      "metadata": {
        "colab": {
          "base_uri": "https://localhost:8080/",
          "height": 394
        },
        "id": "0CWEN5DHUAPA",
        "outputId": "2be384cc-c89f-4b18-b102-f8ee4ec0cf4f"
      },
      "outputs": [],
      "source": [
        "pivot = df.pivot_table(index='Protected Category', columns='Candidate State', aggfunc='size', fill_value=0)\n",
        "pivot_percentage = pivot.div(pivot.sum(axis=1), axis=0)\n",
        "\n",
        "pivot_percentage.plot(kind='bar', stacked=True, figsize=(10, 6))\n",
        "plt.title('Candidate State by Protected Category (Normalized)')\n",
        "plt.ylabel('Proportion')\n",
        "plt.xlabel('Protected Category')\n",
        "plt.legend(title='Candidate State', bbox_to_anchor=(1.05, 1), loc='upper left')\n",
        "plt.tight_layout()\n",
        "plt.show()"
      ]
    },
    {
      "cell_type": "markdown",
      "metadata": {
        "id": "4D1VbTkEWLcM"
      },
      "source": [
        "### **Age Range and Candidate State**"
      ]
    },
    {
      "cell_type": "code",
      "execution_count": null,
      "metadata": {
        "colab": {
          "base_uri": "https://localhost:8080/",
          "height": 749
        },
        "id": "cbMXp1fHVQoq",
        "outputId": "2df82696-db2f-418b-aea2-248cb4f82e3b"
      },
      "outputs": [],
      "source": [
        "sns.histplot(\n",
        "    data= df,\n",
        "    x='Age Range',\n",
        "    hue='Candidate State',\n",
        "    multiple='stack',\n",
        "    palette='Set2',\n",
        "    shrink=0.8,\n",
        "    legend=True\n",
        ")\n",
        "plt.title(\"Distribution of Age Ranges by Candidate State\", fontsize=14)\n",
        "plt.xlabel(\"Age Range\", fontsize=12)\n",
        "plt.ylabel(\"Count\", fontsize=12)\n",
        "plt.xticks(rotation=45)\n",
        "plt.tight_layout()\n",
        "plt.show()"
      ]
    },
    {
      "cell_type": "code",
      "execution_count": null,
      "metadata": {},
      "outputs": [],
      "source": [
        "sns.boxplot(\n",
        "    data=df,\n",
        "    x='Candidate State',\n",
        "    y=df['Age Range'].map(lambda x: int(x.split('-')[0]) if '-' in x else (19 if '<' in x else 46)),\n",
        "    palette='Set3',\n",
        "    hue='Candidate State',\n",
        "    legend=False\n",
        ")\n",
        "plt.title(\"Candidate State by Age Range (Numerical Approximation)\", fontsize=14)\n",
        "plt.xlabel(\"Candidate State\", fontsize=12)\n",
        "plt.ylabel(\"Age Range (Approximate Numerical Value)\", fontsize=12)\n",
        "plt.xticks(rotation=45)\n",
        "plt.tight_layout()\n",
        "plt.show()\n"
      ]
    },
    {
      "cell_type": "markdown",
      "metadata": {
        "id": "oVlOicrU8Wi5"
      },
      "source": [
        "#### **Correlation**"
      ]
    },
    {
      "cell_type": "code",
      "execution_count": null,
      "metadata": {
        "colab": {
          "base_uri": "https://localhost:8080/",
          "height": 583
        },
        "id": "UOX2wvvX-WS9",
        "outputId": "eddcbc7d-edfd-4454-e5f1-842779966d7c"
      },
      "outputs": [],
      "source": [
        "df_encoded = df.copy()\n",
        "\n",
        "age_mapping = {\n",
        "    '< 20 years': 1,\n",
        "    '20 - 25 years': 2,\n",
        "    '26 - 30 years': 3,\n",
        "    '31 - 35 years': 4,\n",
        "    '36 - 40 years': 5,\n",
        "    '40 - 45 years': 6,\n",
        "    '> 45 years': 7\n",
        "}\n",
        "\n",
        "df_encoded['Age Range'] = df_encoded['Age Range'].map(age_mapping)\n",
        "\n",
        "le = LabelEncoder()\n",
        "\n",
        "for col in df_encoded.columns:\n",
        "    if col != 'Age Range':\n",
        "        df_encoded[col] = le.fit_transform(df_encoded[col])\n",
        "\n",
        "correlation_matrix = df_encoded.corr()\n",
        "\n",
        "plt.figure(figsize=(10, 8))\n",
        "sns.heatmap(correlation_matrix, annot=True, fmt=\".2f\")\n",
        "plt.title('Correlation Matrix')\n",
        "plt.show()"
      ]
    },
    {
      "cell_type": "markdown",
      "metadata": {
        "id": "EUm-5JP0TGCE"
      },
      "source": []
    }
  ],
  "metadata": {
    "colab": {
      "provenance": []
    },
    "kernelspec": {
      "display_name": "Python 3",
      "name": "python3"
    },
    "language_info": {
      "codemirror_mode": {
        "name": "ipython",
        "version": 3
      },
      "file_extension": ".py",
      "mimetype": "text/x-python",
      "name": "python",
      "nbconvert_exporter": "python",
      "pygments_lexer": "ipython3",
      "version": "3.13.2"
    }
  },
  "nbformat": 4,
  "nbformat_minor": 0
}
